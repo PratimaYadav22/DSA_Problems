{
 "cells": [
  {
   "cell_type": "code",
   "execution_count": 17,
   "metadata": {},
   "outputs": [],
   "source": [
    "#1: Two sum problem\n",
    "\n",
    "def twosum(nums, target):\n",
    "    num_dict = {}\n",
    "    for i, num in enumerate(nums):\n",
    "        complement = target - num\n",
    "        if complement in num_dict:\n",
    "            return [num_dict[complement],i]\n",
    "        num_dict[num] = i\n",
    "    return []\n",
    "\n",
    "\n"
   ]
  },
  {
   "cell_type": "code",
   "execution_count": 18,
   "metadata": {},
   "outputs": [
    {
     "name": "stdout",
     "output_type": "stream",
     "text": [
      "[0, 4]\n"
     ]
    }
   ],
   "source": [
    "nums = [2, 7, 11, 15,6]\n",
    "target = 8\n",
    "print(twosum(nums, target))"
   ]
  },
  {
   "cell_type": "code",
   "execution_count": 1,
   "metadata": {},
   "outputs": [],
   "source": [
    "#2 counting word frequency\n",
    "def word_count(words):\n",
    "    wordsCount = {}\n",
    "    for word in words:\n",
    "        wordsCount[word] = wordsCount.get(word,0)+1\n",
    "    print(wordsCount)"
   ]
  },
  {
   "cell_type": "code",
   "execution_count": 2,
   "metadata": {},
   "outputs": [
    {
     "name": "stdout",
     "output_type": "stream",
     "text": [
      "{'hello': 4, 'hi': 2, 'Pratima': 1, 'Hi': 1}\n"
     ]
    }
   ],
   "source": [
    "words = [\"hello\", \"hi\",\"hello\",\"hi\",\"hello\",\"hello\",\"Pratima\",\"Hi\"]\n",
    "word_count(words)"
   ]
  }
 ],
 "metadata": {
  "kernelspec": {
   "display_name": "base",
   "language": "python",
   "name": "python3"
  },
  "language_info": {
   "codemirror_mode": {
    "name": "ipython",
    "version": 3
   },
   "file_extension": ".py",
   "mimetype": "text/x-python",
   "name": "python",
   "nbconvert_exporter": "python",
   "pygments_lexer": "ipython3",
   "version": "3.11.5"
  }
 },
 "nbformat": 4,
 "nbformat_minor": 2
}
