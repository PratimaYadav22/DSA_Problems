{
 "cells": [
  {
   "cell_type": "code",
   "execution_count": 17,
   "metadata": {},
   "outputs": [],
   "source": [
    "#1: Two sum problem\n",
    "\n",
    "def twosum(nums, target):\n",
    "    num_dict = {}\n",
    "    for i, num in enumerate(nums):\n",
    "        complement = target - num\n",
    "        if complement in num_dict:\n",
    "            return [num_dict[complement],i]\n",
    "        num_dict[num] = i\n",
    "    return []\n",
    "\n",
    "\n"
   ]
  },
  {
   "cell_type": "code",
   "execution_count": 18,
   "metadata": {},
   "outputs": [
    {
     "name": "stdout",
     "output_type": "stream",
     "text": [
      "[0, 4]\n"
     ]
    }
   ],
   "source": [
    "nums = [2, 7, 11, 15,6]\n",
    "target = 8\n",
    "print(twosum(nums, target))"
   ]
  },
  {
   "cell_type": "code",
   "execution_count": 1,
   "metadata": {},
   "outputs": [],
   "source": [
    "#2 counting word frequency\n",
    "def word_count(words):\n",
    "    wordsCount = {}\n",
    "    for word in words:\n",
    "        wordsCount[word] = wordsCount.get(word,0)+1\n",
    "    print(wordsCount)"
   ]
  },
  {
   "cell_type": "code",
   "execution_count": 2,
   "metadata": {},
   "outputs": [
    {
     "name": "stdout",
     "output_type": "stream",
     "text": [
      "{'hello': 4, 'hi': 2, 'Pratima': 1, 'Hi': 1}\n"
     ]
    }
   ],
   "source": [
    "words = [\"hello\", \"hi\",\"hello\",\"hi\",\"hello\",\"hello\",\"Pratima\",\"Hi\"]\n",
    "word_count(words)"
   ]
  },
  {
   "cell_type": "code",
   "execution_count": 7,
   "metadata": {},
   "outputs": [
    {
     "name": "stdout",
     "output_type": "stream",
     "text": [
      "[0, 0, 0, 0, 0, 0, 0, 0, 0, 1, 0, 0, 0, 0, 0, 0, 0, -1, 0, 0, 0, 0, 0, 0, 0, 0]\n",
      "[0, 0, 0, 0, 0, 0, 0, 0, 0, 1, 0, 0, 0, 0, 0, 0, 0, -1, 0, 0, 0, 0, 0, 0, 0, 0]\n",
      "[0, 0, 0, 0, 0, 0, 0, 0, 0, 0, 0, 0, 0, 0, 0, 0, 0, 0, 0, 0, 0, 0, 0, 0, 0, 0]\n",
      "True\n"
     ]
    }
   ],
   "source": [
    "def isAnagram(s,t):\n",
    "        if len(s) != len(t):\n",
    "            return False\n",
    "        \n",
    "        char_count = [0] * 26\n",
    "\n",
    "        for i in range(len(s)):\n",
    "            char_count[ord(s[i]) - ord('a') ] += 1\n",
    "            char_count[ord(t[i]) - ord('a') ] -= 1\n",
    "            print(char_count)\n",
    "\n",
    "        return all(count == 0  for count in char_count)   \n",
    "\n",
    "s=\"jar\"\n",
    "t=\"raj\"\n",
    "\n",
    "print(isAnagram(s,t))"
   ]
  },
  {
   "cell_type": "code",
   "execution_count": null,
   "metadata": {},
   "outputs": [],
   "source": [
    "def anagram(ls, target):\n",
    "    target = list(target)\n",
    "    print(target)\n",
    "    dict = {}\n",
    "    for word in ls:\n",
    "        word = list(word)\n",
    "        if len(target) == len(word):\n",
    "            for ch in word:\n",
    "                if ch not in target:\n",
    "                    break\n",
    "            print(\"Anagrams:\",''.join(word))\n"
   ]
  },
  {
   "cell_type": "code",
   "execution_count": 15,
   "metadata": {},
   "outputs": [
    {
     "name": "stdout",
     "output_type": "stream",
     "text": [
      "['a', 'c', 't']\n",
      "Anagrams: cat\n",
      "Anagrams: tac\n",
      "Anagrams: pact\n"
     ]
    }
   ],
   "source": [
    "ls = ['cat','tac','pact']\n",
    "target = 'act'\n",
    "anagram(ls, target)\n"
   ]
  },
  {
   "cell_type": "code",
   "execution_count": null,
   "metadata": {},
   "outputs": [],
   "source": [
    "def duplicate(ls):\n",
    "    dict = {}\n",
    "    for i in ls:\n",
    "        if i in dict:\n",
    "            if dict[i] <= 2:\n",
    "                return True\n",
    "            dict[i] += 1\n",
    "        else:\n",
    "            dict[i] = 0\n",
    "    return False\n"
   ]
  },
  {
   "cell_type": "code",
   "execution_count": 19,
   "metadata": {},
   "outputs": [
    {
     "name": "stdout",
     "output_type": "stream",
     "text": [
      "done\n"
     ]
    }
   ],
   "source": [
    "ls = [1,2,4,3]\n",
    "duplicate(ls)"
   ]
  }
 ],
 "metadata": {
  "kernelspec": {
   "display_name": "base",
   "language": "python",
   "name": "python3"
  },
  "language_info": {
   "codemirror_mode": {
    "name": "ipython",
    "version": 3
   },
   "file_extension": ".py",
   "mimetype": "text/x-python",
   "name": "python",
   "nbconvert_exporter": "python",
   "pygments_lexer": "ipython3",
   "version": "3.11.5"
  }
 },
 "nbformat": 4,
 "nbformat_minor": 2
}
