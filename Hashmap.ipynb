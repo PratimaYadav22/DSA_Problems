{
 "cells": [
  {
   "cell_type": "code",
   "execution_count": 40,
   "metadata": {},
   "outputs": [],
   "source": [
    "#1: Two sum problem\n",
    "\n",
    "def twosum(nums, target):\n",
    "    num_dict = {}\n",
    "    for i, num in enumerate(nums):\n",
    "        complement = target - num\n",
    "        if complement in num_dict:\n",
    "            return [num_dict[complement],i]\n",
    "        num_dict[num] = i\n",
    "    return []\n",
    "\n",
    "\n"
   ]
  },
  {
   "cell_type": "code",
   "execution_count": 41,
   "metadata": {},
   "outputs": [
    {
     "name": "stdout",
     "output_type": "stream",
     "text": [
      "[0, 4]\n"
     ]
    }
   ],
   "source": [
    "nums = [2, 7, 11, 15,6]\n",
    "target = 8\n",
    "print(twosum(nums, target))"
   ]
  },
  {
   "cell_type": "code",
   "execution_count": 42,
   "metadata": {},
   "outputs": [],
   "source": [
    "#2 counting word frequency\n",
    "def word_count(words):\n",
    "    wordsCount = {}\n",
    "    for word in words:\n",
    "        wordsCount[word] = wordsCount.get(word,0)+1\n",
    "    print(wordsCount)"
   ]
  },
  {
   "cell_type": "code",
   "execution_count": 43,
   "metadata": {},
   "outputs": [
    {
     "name": "stdout",
     "output_type": "stream",
     "text": [
      "{'hello': 4, 'hi': 2, 'Pratima': 1, 'Hi': 1}\n"
     ]
    }
   ],
   "source": [
    "words = [\"hello\", \"hi\",\"hello\",\"hi\",\"hello\",\"hello\",\"Pratima\",\"Hi\"]\n",
    "word_count(words)"
   ]
  },
  {
   "cell_type": "code",
   "execution_count": 44,
   "metadata": {},
   "outputs": [
    {
     "name": "stdout",
     "output_type": "stream",
     "text": [
      "[0, 0, 0, 0, 0, 0, 0, 0, 0, 1, 0, 0, 0, 0, 0, 0, 0, -1, 0, 0, 0, 0, 0, 0, 0, 0]\n",
      "[0, 0, 0, 0, 0, 0, 0, 0, 0, 1, 0, 0, 0, 0, 0, 0, 0, -1, 0, 0, 0, 0, 0, 0, 0, 0]\n",
      "[0, 0, 0, 0, 0, 0, 0, 0, 0, 0, 0, 0, 0, 0, 0, 0, 0, 0, 0, 0, 0, 0, 0, 0, 0, 0]\n",
      "True\n"
     ]
    }
   ],
   "source": [
    "def isAnagram(s,t):\n",
    "        if len(s) != len(t):\n",
    "            return False\n",
    "        \n",
    "        char_count = [0] * 26\n",
    "\n",
    "        for i in range(len(s)):\n",
    "            char_count[ord(s[i]) - ord('a') ] += 1\n",
    "            char_count[ord(t[i]) - ord('a') ] -= 1\n",
    "            print(char_count)\n",
    "\n",
    "        return all(count == 0  for count in char_count)   \n",
    "\n",
    "s=\"jar\"\n",
    "t=\"raj\"\n",
    "\n",
    "print(isAnagram(s,t))"
   ]
  },
  {
   "cell_type": "code",
   "execution_count": 45,
   "metadata": {},
   "outputs": [],
   "source": [
    "def anagram(ls, target):\n",
    "    target = list(target)\n",
    "    print(target)\n",
    "    dict = {}\n",
    "    for word in ls:\n",
    "        word = list(word)\n",
    "        if len(target) == len(word):\n",
    "            for ch in word:\n",
    "                if ch not in target:\n",
    "                    break\n",
    "            print(\"Anagrams:\",''.join(word))\n"
   ]
  },
  {
   "cell_type": "code",
   "execution_count": 46,
   "metadata": {},
   "outputs": [
    {
     "name": "stdout",
     "output_type": "stream",
     "text": [
      "['a', 'c', 't']\n",
      "Anagrams: cat\n",
      "Anagrams: tac\n"
     ]
    }
   ],
   "source": [
    "ls = ['cat','tac','pact']\n",
    "target = 'act'\n",
    "anagram(ls, target)\n"
   ]
  },
  {
   "cell_type": "code",
   "execution_count": 47,
   "metadata": {},
   "outputs": [],
   "source": [
    "def duplicate(ls):\n",
    "    dict = {}\n",
    "    for i in ls:\n",
    "        if i in dict:\n",
    "            if dict[i] <= 2:\n",
    "                return True\n",
    "            dict[i] += 1\n",
    "        else:\n",
    "            dict[i] = 0\n",
    "    return False\n"
   ]
  },
  {
   "cell_type": "code",
   "execution_count": 48,
   "metadata": {},
   "outputs": [
    {
     "data": {
      "text/plain": [
       "False"
      ]
     },
     "execution_count": 48,
     "metadata": {},
     "output_type": "execute_result"
    }
   ],
   "source": [
    "ls = [1,2,4,3]\n",
    "duplicate(ls)"
   ]
  },
  {
   "cell_type": "code",
   "execution_count": 49,
   "metadata": {},
   "outputs": [
    {
     "name": "stdout",
     "output_type": "stream",
     "text": [
      "[['act', 'cat'], ['pots', 'tops', 'stop'], ['hat']]\n"
     ]
    }
   ],
   "source": [
    "from collections import defaultdict\n",
    "\n",
    "def group_anagrams(strs):\n",
    "    anagrams = defaultdict(list)\n",
    "\n",
    "    for word in strs:\n",
    "        # Create a frequency tuple\n",
    "        char_count = [0] * 26  # Assuming only lowercase English letters\n",
    "        for char in word:\n",
    "            char_count[ord(char) - ord('a')] += 1\n",
    "        char_tuple = tuple(char_count)\n",
    "\n",
    "        # Group words by their character frequency tuple\n",
    "        anagrams[char_tuple].append(word)\n",
    "\n",
    "    return list(anagrams.values())\n",
    "\n",
    "# Example usage\n",
    "strs = [\"act\", \"pots\", \"tops\", \"cat\", \"stop\", \"hat\"]\n",
    "print(group_anagrams(strs))\n"
   ]
  },
  {
   "cell_type": "code",
   "execution_count": 50,
   "metadata": {},
   "outputs": [],
   "source": [
    "def productExceptSelf(nums):\n",
    "        n= len(nums)\n",
    "        output = [1] * n\n",
    "\n",
    "        prefix = 1\n",
    "        for i in range(n):\n",
    "            output[i] = prefix\n",
    "            prefix *= nums[i]\n",
    "\n",
    "        suffix = 1\n",
    "        for i in range(n-1,-1,-1):\n",
    "            output[i] *= suffix\n",
    "            suffix *= nums[i]\n",
    "\n",
    "        return output"
   ]
  },
  {
   "cell_type": "code",
   "execution_count": 51,
   "metadata": {},
   "outputs": [
    {
     "data": {
      "text/plain": [
       "[48, 24, 12, 8]"
      ]
     },
     "execution_count": 51,
     "metadata": {},
     "output_type": "execute_result"
    }
   ],
   "source": [
    "nums = [1,2,4,6]\n",
    "productExceptSelf(nums)"
   ]
  },
  {
   "cell_type": "code",
   "execution_count": 52,
   "metadata": {},
   "outputs": [
    {
     "ename": "SyntaxError",
     "evalue": "incomplete input (1235225570.py, line 10)",
     "output_type": "error",
     "traceback": [
      "\u001b[1;36m  Cell \u001b[1;32mIn[52], line 10\u001b[1;36m\u001b[0m\n\u001b[1;33m    \u001b[0m\n\u001b[1;37m    ^\u001b[0m\n\u001b[1;31mSyntaxError\u001b[0m\u001b[1;31m:\u001b[0m incomplete input\n"
     ]
    }
   ],
   "source": [
    "#binary search\n",
    "\n",
    "def search(nums, k):\n",
    "    l,h,mid = 0\n",
    "\n",
    "\n",
    "\n",
    "    if k == nums[mid]:\n",
    "        \n",
    "\n"
   ]
  },
  {
   "cell_type": "code",
   "execution_count": null,
   "metadata": {},
   "outputs": [],
   "source": [
    "nums = [2,5,6,7,8,9,45,46,56,58,68,78,80,94,97,99]\n",
    "k = 78\n",
    "search(nums,k)"
   ]
  },
  {
   "cell_type": "code",
   "execution_count": null,
   "metadata": {},
   "outputs": [],
   "source": [
    "#buy and sell stocks\n",
    "def stock(p):\n",
    "    profit = []\n",
    "    result = [0]\n",
    " \n",
    "    for i in range(len(p)):\n",
    "        \n",
    "        for j in range(i+1,len(p)):\n",
    "           \n",
    "            if p[i] < p[j]:\n",
    "                \n",
    "                profit.append(p[j]-p[i])\n",
    "              \n",
    "\n",
    "    return max(result,profit)\n"
   ]
  },
  {
   "cell_type": "code",
   "execution_count": null,
   "metadata": {},
   "outputs": [
    {
     "data": {
      "text/plain": [
       "-1"
      ]
     },
     "execution_count": 24,
     "metadata": {},
     "output_type": "execute_result"
    }
   ],
   "source": [
    "p = [10,8,7,5,2]\n",
    "stock(p)\n"
   ]
  },
  {
   "cell_type": "code",
   "execution_count": null,
   "metadata": {},
   "outputs": [],
   "source": [
    "def sum(n):\n",
    "    \n",
    " \n",
    "    s = 0\n",
    "    for i in range(n):\n",
    "\n",
    "        if (i%3 == 0) or (i%5 == 0):\n",
    "            s += i\n",
    "    return s"
   ]
  },
  {
   "cell_type": "code",
   "execution_count": null,
   "metadata": {},
   "outputs": [
    {
     "data": {
      "text/plain": [
       "2318"
      ]
     },
     "execution_count": 33,
     "metadata": {},
     "output_type": "execute_result"
    }
   ],
   "source": [
    "n = 100\n",
    "sum(n)"
   ]
  },
  {
   "cell_type": "code",
   "execution_count": null,
   "metadata": {},
   "outputs": [],
   "source": [
    "#Selection Sorting\n",
    "def selectionSort(nums):\n",
    "    for i in range(len(nums)-1):\n",
    "        minimum = i\n",
    "        for j in range(i+1,len(nums)):\n",
    "            if nums[j] < nums[minimum]:\n",
    "                minimum = j\n",
    "        nums[i],nums[minimum] = nums[minimum], nums[i]\n",
    "    return nums\n",
    "\n",
    "#Bubble Sort\n",
    "def bubbleSort(nums):\n",
    "    for i in range(len(nums)-1,0,-1):\n",
    "        for j in range(0,i-1,1):\n",
    "            if nums[j] > nums[j+1]:\n",
    "                nums[j], nums[j+1] = nums[j+1], nums[j]\n",
    "    return nums\n",
    "            \n",
    "#Insertion sort\n",
    "def insertionSort(nums):\n",
    "    for i in range(len(nums)-1):\n",
    "        j  = i\n",
    "        while (j>0 and nums[j]<nums[j-1]):\n",
    "            nums[j-1], nums[j] = nums[j], nums[j-1]\n",
    "            j -= 1\n",
    "    return nums\n",
    "\n",
    "\n",
    "def mergeSort(nums):\n",
    "    if len(nums) <= 1:\n",
    "        return nums\n",
    "\n",
    "    mid = len(nums)//2\n",
    "\n",
    "    left = mergeSort(nums[:mid])\n",
    "    right = mergeSort(nums[mid:])\n",
    "\n",
    "    \n",
    "\n"
   ]
  },
  {
   "cell_type": "code",
   "execution_count": null,
   "metadata": {},
   "outputs": [
    {
     "name": "stdout",
     "output_type": "stream",
     "text": [
      "insertion sort [0, 3, 5, 6, 7, 8, 36, 83, 100]\n"
     ]
    }
   ],
   "source": [
    "nums = [5,3,6,7,83,36,8,0,100]\n",
    "##print(\"selection sort\",selectionSort(nums))\n",
    "#print(\"bubble sort\",bubbleSort(nums))\n",
    "print(\"insertion sort\",insertionSort(nums))"
   ]
  },
  {
   "cell_type": "code",
   "execution_count": null,
   "metadata": {},
   "outputs": [],
   "source": [
    "def encode(strgs):\n",
    "    result = \"\"\n",
    "    for s in strgs:\n",
    "        length = str(len(s))\n",
    "        result += s+length+\"#\"\n",
    "    decode(result) \n",
    "\n",
    "\n",
    "def decode(result):\n",
    "    original = []\n",
    "    i= 0\n",
    "\n",
    "    while i in len(result):\n",
    "        j = i\n"
   ]
  },
  {
   "cell_type": "code",
   "execution_count": null,
   "metadata": {},
   "outputs": [],
   "source": [
    "#subarray of size3 sum maximum\n",
    "def maxSum(arr,k):\n",
    "    largest = -999-1\n",
    "    dict1 = {}\n",
    "    for i in range(len(arr)-k+1):\n",
    "        sum = 0\n",
    "        arr1 = []\n",
    "        for j in range(i,i+k):\n",
    "            sum += arr[j]\n",
    "            arr1.append(arr[j])            \n",
    "        if sum>largest:\n",
    "            largest = sum\n",
    "            dict1 = {tuple(arr1):sum}\n",
    "    return dict1\n",
    "\n"
   ]
  },
  {
   "cell_type": "code",
   "execution_count": null,
   "metadata": {},
   "outputs": [],
   "source": [
    "arr = [999,-999,-999,-999,999]\n",
    "k = 3\n",
    "print(maxSum(arr,k))"
   ]
  },
  {
   "cell_type": "code",
   "execution_count": null,
   "metadata": {},
   "outputs": [],
   "source": [
    "def slidingWindow(arr,k):\n",
    "    i = 0\n",
    "    j = 0\n",
    "    sum = 0\n",
    "\n",
    "\n",
    "    if len(arr)\n",
    "    while j<k:\n",
    "        sum += arr[j]\n",
    "        largest = sum\n",
    "        j += 1\n",
    "\n",
    "    for i in range(len(arr)-k+1):        \n",
    "        sum = sum - arr[i]\n",
    "        i += 1\n",
    "        \n",
    "        if j< (len(arr)):\n",
    "            sum = sum+arr[j]\n",
    "\n",
    "        j += 1\n",
    "\n",
    "        if sum>largest:\n",
    "            largest = sum\n",
    "        \n",
    "    return largest\n",
    "\n",
    "\n"
   ]
  },
  {
   "cell_type": "code",
   "execution_count": 107,
   "metadata": {},
   "outputs": [],
   "source": [
    "def maxSliding(arr,k):\n",
    "    i , j= 0,0 \n",
    "    sum =0\n",
    "    largest = 0\n",
    "    while j< len(arr):\n",
    "        sum += arr[j]\n",
    "\n",
    "        if (j-i+1) == k:\n",
    "            if sum>largest:\n",
    "                largest = sum\n",
    "\n",
    "            sum = sum - arr[i]\n",
    "            i += 1\n",
    "        \n",
    "        j += 1\n",
    "        \n",
    "\n",
    "            \n",
    "            \n",
    "    return largest\n",
    "\n"
   ]
  },
  {
   "cell_type": "code",
   "execution_count": 110,
   "metadata": {},
   "outputs": [
    {
     "name": "stdout",
     "output_type": "stream",
     "text": [
      "24\n"
     ]
    }
   ],
   "source": [
    "arr = [1, 4, 2, 10, 2, 3, 1, 0, 20]\n",
    "k = 4\n",
    "print(maxSliding(arr,k))"
   ]
  },
  {
   "cell_type": "code",
   "execution_count": 20,
   "metadata": {},
   "outputs": [],
   "source": [
    "def FirstNegativeInteger(arr, k): \n",
    "         i , j = 0,0\n",
    "         negativeArray = []\n",
    "         result = []\n",
    "         \n",
    "         while j < len(arr):\n",
    "             print(\"in while\", i,j)\n",
    "             if arr[j] < 0:\n",
    "                 negativeArray.append(arr[j])\n",
    "                 print(negativeArray)\n",
    "                \n",
    "             if (j-i+1) < k:\n",
    "                 j+=1\n",
    "\n",
    "             \n",
    "             elif j-i+1 == k:\n",
    "                 print(\"window size reached\", j)\n",
    "                 if negativeArray:\n",
    "                     \n",
    "                     result.append(negativeArray[0])\n",
    "                     print(result)\n",
    "                     if arr[i]==negativeArray[0]:\n",
    "                         negativeArray.pop(0)\n",
    "                         i += 1\n",
    "                         j +=1\n",
    "                     else:\n",
    "                          i+=1\n",
    "                          j+=1\n",
    "                     \n",
    "                 else:\n",
    "                     result.append(0)\n",
    "                     i += 1\n",
    "                     j +=1\n",
    "             \n",
    "                     \n",
    "         return result"
   ]
  },
  {
   "cell_type": "code",
   "execution_count": 21,
   "metadata": {},
   "outputs": [
    {
     "name": "stdout",
     "output_type": "stream",
     "text": [
      "in while 0 0\n",
      "[-8]\n",
      "in while 0 1\n",
      "window size reached 1\n",
      "[-8]\n",
      "in while 1 2\n",
      "window size reached 2\n",
      "in while 2 3\n",
      "[-6]\n",
      "window size reached 3\n",
      "[-8, 0, -6]\n",
      "in while 3 4\n",
      "window size reached 4\n",
      "[-8, 0, -6, -6]\n"
     ]
    },
    {
     "data": {
      "text/plain": [
       "[-8, 0, -6, -6]"
      ]
     },
     "execution_count": 21,
     "metadata": {},
     "output_type": "execute_result"
    }
   ],
   "source": [
    "arr = [-8,2, 3, -6, 10]\n",
    "k = 2\n",
    "FirstNegativeInteger(arr,k)"
   ]
  },
  {
   "cell_type": "code",
   "execution_count": 64,
   "metadata": {},
   "outputs": [],
   "source": [
    "def countAnagram(pat, txt):\n",
    "    pat = list (pat)\n",
    "    txt = list(txt)\n",
    "    dict1 = {}\n",
    "    result = 0\n",
    "    i,j = 0,0\n",
    "\n",
    "    for a in pat:\n",
    "        if a in dict1:\n",
    "            dict1[a] += 1\n",
    "        else:\n",
    "            dict1[a] = 1\n",
    "\n",
    "    print(dict1)            \n",
    "\n",
    "    k = len(pat)\n",
    "    print(k)\n",
    "\n",
    "    count = len(dict1)\n",
    "    print(count)\n",
    "\n",
    "    while j < len(txt):\n",
    "        print(\"in while\", j)\n",
    "\n",
    "        if txt[j] in dict1:\n",
    "            dict1[txt[j]] -= 1\n",
    "            if dict1[txt[j]] == 0:\n",
    "                count -= 1\n",
    "            print(dict1)\n",
    "\n",
    "        if j-i+1 < k:\n",
    "            j += 1\n",
    "        \n",
    "        elif j-i+1 == k:\n",
    "\n",
    "            if count == 0:\n",
    "                print(\"count is zero\")\n",
    "                result += 1\n",
    "                print(\"result is: \", result)\n",
    "\n",
    "                if txt[i] in dict1:\n",
    "                    dict1[txt[i]] += 1\n",
    "                    count += 1\n",
    "            \n",
    "            \n",
    "                if txt[j] in dict1:\n",
    "                    dict1[txt[j]] += 1\n",
    "                    count += 1\n",
    "\n",
    "            j += 1\n",
    "            \n",
    "            i += 1\n",
    "            \n",
    "    return result\n",
    "\n"
   ]
  },
  {
   "cell_type": "code",
   "execution_count": 67,
   "metadata": {},
   "outputs": [
    {
     "name": "stdout",
     "output_type": "stream",
     "text": [
      "{'f': 1, 'o': 1, 'r': 1}\n",
      "3\n",
      "3\n",
      "in while 0\n",
      "{'f': 0, 'o': 1, 'r': 1}\n",
      "in while 1\n",
      "{'f': 0, 'o': 0, 'r': 1}\n",
      "in while 2\n",
      "{'f': 0, 'o': 0, 'r': 0}\n",
      "count is zero\n",
      "result is:  1\n",
      "in while 3\n",
      "{'f': 0, 'o': 0, 'r': 1}\n",
      "in while 4\n",
      "{'f': 0, 'o': -1, 'r': 1}\n",
      "in while 5\n",
      "{'f': 0, 'o': -1, 'r': 0}\n",
      "count is zero\n",
      "result is:  2\n",
      "in while 6\n",
      "{'f': 0, 'o': -1, 'r': 1}\n",
      "in while 7\n",
      "{'f': 0, 'o': -2, 'r': 1}\n",
      "in while 8\n",
      "{'f': 0, 'o': -2, 'r': 0}\n",
      "count is zero\n",
      "result is:  3\n",
      "in while 9\n",
      "in while 10\n",
      "{'f': 0, 'o': -2, 'r': 1}\n",
      "in while 11\n",
      "{'f': 0, 'o': -2, 'r': 0}\n",
      "count is zero\n",
      "result is:  4\n",
      "in while 12\n",
      "{'f': 0, 'o': -3, 'r': 1}\n"
     ]
    },
    {
     "data": {
      "text/plain": [
       "4"
      ]
     },
     "execution_count": 67,
     "metadata": {},
     "output_type": "execute_result"
    }
   ],
   "source": [
    "pat = \"for\"\n",
    "txt = \"forforforxfro\"\n",
    "countAnagram(pat, txt)\n"
   ]
  },
  {
   "cell_type": "code",
   "execution_count": 23,
   "metadata": {},
   "outputs": [],
   "source": [
    "def maxValue(arr, k):\n",
    "    i , j = 0, 0\n",
    "    maximumValue = []\n",
    "\n",
    "\n",
    "    while j < len(arr):\n",
    "        print(\"in while\", j)\n",
    "        maximum = arr[i]\n",
    "        print(maximum)\n",
    "\n",
    "        if arr[j] > maximum:\n",
    "            maximum = arr[j]\n",
    "        \n",
    "        if (j-i+1) < k:\n",
    "            print(\"window size did not reach\")\n",
    "            j += 1\n",
    "        \n",
    "        elif (j-i+1) == k:\n",
    "            print(\"window size reached\")\n",
    "            maximumValue.append(maximum)\n",
    "            print(\"max array\",maximumValue)\n",
    "\n",
    "            i += 1\n",
    "            j += 1\n",
    "\n",
    "            \n",
    "\n",
    "    return maximumValue\n"
   ]
  },
  {
   "cell_type": "code",
   "execution_count": 24,
   "metadata": {},
   "outputs": [
    {
     "name": "stdout",
     "output_type": "stream",
     "text": [
      "in while 0\n",
      "3\n",
      "window size did not reach\n",
      "in while 1\n",
      "3\n",
      "window size did not reach\n",
      "in while 2\n",
      "3\n",
      "window size reached\n",
      "max array [3]\n",
      "in while 3\n",
      "-1\n",
      "window size reached\n",
      "max array [3, 0]\n",
      "in while 4\n",
      "2\n",
      "window size reached\n",
      "max array [3, 0, 2]\n",
      "in while 5\n",
      "0\n",
      "window size reached\n",
      "max array [3, 0, 2, 4]\n",
      "in while 6\n",
      "-3\n",
      "window size reached\n",
      "max array [3, 0, 2, 4, -1]\n",
      "in while 7\n",
      "4\n",
      "window size reached\n",
      "max array [3, 0, 2, 4, -1, 4]\n",
      "[3, 0, 2, 4, -1, 4]\n"
     ]
    }
   ],
   "source": [
    "arr = [3,-1,2,0,-3,4,-1,-1]\n",
    "k = 3\n",
    "print(maxValue(arr, k))"
   ]
  }
 ],
 "metadata": {
  "kernelspec": {
   "display_name": "base",
   "language": "python",
   "name": "python3"
  },
  "language_info": {
   "codemirror_mode": {
    "name": "ipython",
    "version": 3
   },
   "file_extension": ".py",
   "mimetype": "text/x-python",
   "name": "python",
   "nbconvert_exporter": "python",
   "pygments_lexer": "ipython3",
   "version": "3.11.5"
  }
 },
 "nbformat": 4,
 "nbformat_minor": 2
}
